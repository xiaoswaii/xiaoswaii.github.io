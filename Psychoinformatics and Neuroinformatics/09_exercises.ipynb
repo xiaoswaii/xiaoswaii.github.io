{
 "cells": [
  {
   "cell_type": "markdown",
   "metadata": {},
   "source": [
    "# Psychoinformatics - Week 9 (Exercises)\n",
    "by yourname (your email)"
   ]
  },
  {
   "cell_type": "code",
   "execution_count": 7,
   "metadata": {},
   "outputs": [],
   "source": [
    "import numpy as np\n",
    "from sklearn import *\n",
    "from matplotlib.pyplot import *\n",
    "%matplotlib inline"
   ]
  },
  {
   "cell_type": "markdown",
   "metadata": {},
   "source": [
    "## 1 檢查 machine learning pipeline (6 points)"
   ]
  },
  {
   "cell_type": "markdown",
   "metadata": {},
   "source": [
    "### 1.1 請打亂原本的Y觀察正確率是否和chance level (0.33)有差異? 若有, why? (3 points)"
   ]
  },
  {
   "cell_type": "code",
   "execution_count": 107,
   "metadata": {},
   "outputs": [
    {
     "name": "stdout",
     "output_type": "stream",
     "text": [
      "[0 0 0 0 0 0 0 0 0 0 0 0 0 0 0 0 0 0 0 0 0 0 0 0 0 0 0 0 0 0 0 0 0 0 0 0 0\n",
      " 0 0 0 0 0 0 0 0 0 0 0 0 0 1 1 1 1 1 1 1 1 1 1 1 1 1 1 1 1 1 1 1 1 1 1 1 1\n",
      " 1 1 1 1 1 1 1 1 1 1 1 1 1 1 1 1 1 1 1 1 1 1 1 1 1 1 2 2 2 2 2 2 2 2 2 2 2\n",
      " 2 2 2 2 2 2 2 2 2 2 2 2 2 2 2 2 2 2 2 2 2 2 2 2 2 2 2 2 2 2 2 2 2 2 2 2 2\n",
      " 2 2]\n",
      "1.0\n"
     ]
    }
   ],
   "source": [
    "# 本題在研究打亂X和打亂Y有差別嗎?\n",
    "iris = datasets.load_iris()\n",
    "X=iris.data\n",
    "Y=iris.target\n",
    "print(Y)\n",
    "clf=neighbors.KNeighborsClassifier(1)\n",
    "clf.fit(X,Y)\n",
    "accuracy=np.mean(clf.predict(X)==Y)\n",
    "print(accuracy)"
   ]
  },
  {
   "cell_type": "markdown",
   "metadata": {},
   "source": [
    "### 1.2 請用統計檢定accuracies中的結果是否和chance level (0.5)有差異? 若有, why? (3 points)"
   ]
  },
  {
   "cell_type": "code",
   "execution_count": 99,
   "metadata": {},
   "outputs": [
    {
     "name": "stdout",
     "output_type": "stream",
     "text": [
      "[0 1 0 1 0 1 0 1 0 1 0 1 0 1 0 1 0 1 0 1 0 1 0 1 0 1 0 1 0 1 0 1 0 1 0 1 0\n",
      " 1 0 1 0 1 0 1 0 1 0 1 0 1 0 1 0 1 0 1 0 1 0 1 0 1 0 1 0 1 0 1 0 1 0 1 0 1\n",
      " 0 1 0 1 0 1 0 1 0 1 0 1 0 1 0 1 0 1 0 1 0 1 0 1 0 1 0 1 0 1 0 1 0 1 0 1 0\n",
      " 1 0 1 0 1 0 1 0 1 0 1 0 1 0 1 0 1 0 1 0 1 0 1 0 1 0 1 0 1 0 1 0 1 0 1 0 1\n",
      " 0 1 0 1 0 1 0 1 0 1 0 1 0 1 0 1 0 1 0 1 0 1 0 1 0 1 0 1 0 1 0 1 0 1 0 1 0\n",
      " 1 0 1 0 1 0 1 0 1 0 1 0 1 0 1]\n"
     ]
    }
   ],
   "source": [
    "Y=np.remainder(range(200),2) \n",
    "print(Y) #Y的0和1個數一樣多"
   ]
  },
  {
   "cell_type": "code",
   "execution_count": 100,
   "metadata": {},
   "outputs": [],
   "source": [
    "# 跑一百次測試:\n",
    "clf=svm.SVC()\n",
    "accuracies=[]\n",
    "for i in range(100): \n",
    " X=np.random.rand(200,2) # X取亂數\n",
    " kf=cross_validation.KFold(len(Y),len(Y),shuffle=True) # Leave-one-out cross-validation\n",
    " sc=cross_validation.cross_val_score(clf,X,Y,cv=kf)\n",
    " accuracies.append(sc.mean())"
   ]
  },
  {
   "cell_type": "code",
   "execution_count": 101,
   "metadata": {},
   "outputs": [
    {
     "name": "stdout",
     "output_type": "stream",
     "text": [
      "[0.44, 0.515, 0.49, 0.41, 0.585, 0.555, 0.515, 0.475, 0.465, 0.425, 0.505, 0.525, 0.49, 0.515, 0.5, 0.475, 0.0, 0.52, 0.52, 0.405, 0.515, 0.0, 0.5, 0.515, 0.565, 0.55, 0.495, 0.39, 0.475, 0.525, 0.46, 0.44, 0.53, 0.475, 0.0, 0.42, 0.47, 0.51, 0.525, 0.445, 0.44, 0.095, 0.315, 0.0, 0.0, 0.56, 0.57, 0.425, 0.53, 0.545, 0.425, 0.515, 0.5, 0.59, 0.48, 0.435, 0.49, 0.48, 0.46, 0.555, 0.425, 0.45, 0.46, 0.485, 0.57, 0.0, 0.44, 0.0, 0.475, 0.52, 0.535, 0.54, 0.49, 0.515, 0.35, 0.54, 0.545, 0.0, 0.475, 0.47, 0.495, 0.51, 0.385, 0.485, 0.38, 0.53, 0.465, 0.505, 0.55, 0.46, 0.5, 0.0, 0.545, 0.45, 0.545, 0.505, 0.495, 0.455, 0.515, 0.0]\n"
     ]
    }
   ],
   "source": [
    "# Please do your statistical tests here:\n",
    "print(accuracies)"
   ]
  },
  {
   "cell_type": "markdown",
   "metadata": {},
   "source": [
    "Please write your discussion here, if any."
   ]
  },
  {
   "cell_type": "markdown",
   "metadata": {},
   "source": [
    "### Please submit this file to http://hpc.psy.ntu.edu.tw/info before noon next Wednesday."
   ]
  }
 ],
 "metadata": {
  "kernelspec": {
   "display_name": "Python 3",
   "language": "python",
   "name": "python3"
  },
  "language_info": {
   "codemirror_mode": {
    "name": "ipython",
    "version": 3
   },
   "file_extension": ".py",
   "mimetype": "text/x-python",
   "name": "python",
   "nbconvert_exporter": "python",
   "pygments_lexer": "ipython3",
   "version": "3.6.5"
  }
 },
 "nbformat": 4,
 "nbformat_minor": 2
}
