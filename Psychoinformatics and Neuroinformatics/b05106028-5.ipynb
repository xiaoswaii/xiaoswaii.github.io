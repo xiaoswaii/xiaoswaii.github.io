{
 "cells": [
  {
   "cell_type": "markdown",
   "metadata": {},
   "source": [
    "# Psychoinformatics - Week 5 (Exercises)\n",
    "by yourname (your email)"
   ]
  },
  {
   "cell_type": "markdown",
   "metadata": {},
   "source": [
    "## 進一步搜尋 Boy-Girl 版資訊 (6 points)"
   ]
  },
  {
   "cell_type": "markdown",
   "metadata": {},
   "source": [
    "1. index.html 右上角 [< 上頁 ] 中包含了總頁數資訊，請用 LXML 抓出此經常變動的數字。(2points)\n",
    "\n",
    "2. 請用 LXML 找出距離現在時間最近的一篇[爆]文標題與 URN 。(2 points)\n",
    "\n",
    "3. 請用 Selenium 在 index.html 往前翻三頁並拍照。(2 points)"
   ]
  },
  {
   "cell_type": "code",
   "execution_count": 7,
   "metadata": {},
   "outputs": [
    {
     "name": "stdout",
     "output_type": "stream",
     "text": [
      "Requirement already satisfied: selenium in /anaconda3/lib/python3.6/site-packages (3.14.1)\n",
      "Requirement already satisfied: urllib3 in /anaconda3/lib/python3.6/site-packages (from selenium) (1.23)\n",
      "\u001b[31mpyobjc-framework-cocoa 5.0 requires pyobjc-core>=5.0, which is not installed.\u001b[0m\n",
      "\u001b[33mYou are using pip version 10.0.1, however version 18.1 is available.\n",
      "You should consider upgrading via the 'pip install --upgrade pip' command.\u001b[0m\n"
     ]
    }
   ],
   "source": [
    "!pip install selenium"
   ]
  },
  {
   "cell_type": "code",
   "execution_count": 5,
   "metadata": {},
   "outputs": [],
   "source": [
    "# No matter what you do, our autograder will only run your analyze() function \n",
    "# and expect it to return the correct answers of Q1 & Q2 as a list\n",
    "# and generate three screenshots for Q3 with '1.png', '2.png', & '3.png' as filenames.\n",
    "\n",
    "def analyze():\n",
    "    # write your codes here...\n",
    "    import urllib.request\n",
    "    import lxml.html\n",
    "    from urllib import parse,request\n",
    "    from selenium import webdriver\n",
    "    u='http://www.ptt.cc/bbs/Boy-Girl/'\n",
    "    h={'User-Agent':'Mozilla/5.0'}\n",
    "    r=urllib.request.Request(u,headers=h)\n",
    "    data=urllib.request.urlopen(r).read()\n",
    "    t=lxml.html.fromstring(data.decode('utf-8'))\n",
    "    x=t.xpath('//div[@class=\"btn-group btn-group-paging\"]/a[contains(text(),\"上頁\")]')\n",
    "    for link in x:\n",
    "     ans1=link.attrib.get('href')\n",
    "    ans1=ans1.split(\"x\")\n",
    "    ans1=ans1[1]\n",
    "    ans1=ans1.split(\".\")\n",
    "    ans1=ans1[0]\n",
    "    ans1=int(ans1)\n",
    "    ans1=ans1+1#第一題答案\n",
    "\n",
    "    URL='https://www.ptt.cc'\n",
    "    URN='/ask/over18'\n",
    "    q=parse.urlencode({'yes':'yes','from':'/bbs/Boy-Girl/'})\n",
    "    q=q.encode('utf-8')\n",
    "    h={'Cookie':'over18=1','User-Agent':'Mozilla/5.0'}\n",
    "    req=request.Request(URL+URN,q,h)\n",
    "    response=request.urlopen(req)\n",
    "    data=response.read()\n",
    "    t=lxml.html.fromstring(data.decode('utf-8'))\n",
    "    damn=t.xpath('//span[@class=\"hl f1\"]')\n",
    "    while not damn:\n",
    "        x=t.xpath('//div[@class=\"btn-group btn-group-paging\"]/a[contains(text(),\"上頁\")]')\n",
    "        for jibai in x:\n",
    "         a=jibai.attrib.get('href')\n",
    "        URL='https://www.ptt.cc'\n",
    "        URN=a\n",
    "        req=request.Request(URL+URN,q,h)\n",
    "        response=request.urlopen(req)\n",
    "        data=response.read()\n",
    "        t=lxml.html.fromstring(data.decode('utf-8'))\n",
    "        damn=t.xpath('//span[@class=\"hl f1\"]')\n",
    "    long=int(len(damn))\n",
    "    if(len(damn)>1):\n",
    "        damn=damn[-1]\n",
    "    damn=t.xpath('//span[@class=\"hl f1\"]//../..//div[@class=\"title\"]//a')   \n",
    "    for linkk in damn:\n",
    "     ans2=linkk.text#第二題答案\n",
    "     ans3=(linkk.attrib.get('href'))#第二題答案\n",
    "        \n",
    "    URI='https://www.ptt.cc/bbs/Boy-Girl/'\n",
    "    driver=webdriver.Chrome('../chromedriver')\n",
    "    driver.get(URI) \n",
    "    btn=driver.find_element_by_partial_link_text('上頁')\n",
    "    btn.click()\n",
    "    driver.save_screenshot('1.png')\n",
    "    btn=driver.find_element_by_partial_link_text('上頁')\n",
    "    btn.click()\n",
    "    driver.save_screenshot('2.png')\n",
    "    btn=driver.find_element_by_partial_link_text('上頁')\n",
    "    btn.click()\n",
    "    driver.save_screenshot('3.png')\n",
    "    \n",
    "    #for i in range(1,4): open(str(i)+'.png','r').close()\n",
    "    return [ans1,ans2,ans3]"
   ]
  },
  {
   "cell_type": "code",
   "execution_count": 6,
   "metadata": {},
   "outputs": [
    {
     "data": {
      "text/plain": [
       "[4139, '[討論] 這種女生該怎麼追', '/bbs/Boy-Girl/M.1539149736.A.060.html']"
      ]
     },
     "execution_count": 6,
     "metadata": {},
     "output_type": "execute_result"
    }
   ],
   "source": [
    "analyze()"
   ]
  },
  {
   "cell_type": "markdown",
   "metadata": {},
   "source": [
    "### Please submit this file to http://hpc.psy.ntu.edu.tw/info before noon next Wednesday."
   ]
  }
 ],
 "metadata": {
  "kernelspec": {
   "display_name": "Python 3",
   "language": "python",
   "name": "python3"
  },
  "language_info": {
   "codemirror_mode": {
    "name": "ipython",
    "version": 3
   },
   "file_extension": ".py",
   "mimetype": "text/x-python",
   "name": "python",
   "nbconvert_exporter": "python",
   "pygments_lexer": "ipython3",
   "version": "3.6.6"
  }
 },
 "nbformat": 4,
 "nbformat_minor": 2
}
